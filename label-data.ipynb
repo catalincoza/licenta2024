{
 "cells": [
  {
   "cell_type": "code",
   "execution_count": null,
   "metadata": {},
   "outputs": [],
   "source": [
    "import matplotlib.pyplot as plt\n",
    "import matplotlib.image as mpimg\n",
    "import os\n",
    "from IPython.display import clear_output"
   ]
  },
  {
   "cell_type": "code",
   "execution_count": null,
   "metadata": {},
   "outputs": [],
   "source": [
    "def save_image(label, photo, img):\n",
    "    filename = 'sentinel-data/labels/'\n",
    "\n",
    "    # deforestation\n",
    "    if label == 'd':\n",
    "         filename += 'deforestation/' + photo\n",
    "         if os.path.exists(filename):\n",
    "              print('File already exists in deforestation, skipping...')\n",
    "              return\n",
    "\n",
    "    # not deforestation\n",
    "    elif label == 'n':\n",
    "         filename += 'not-deforestation/' + photo\n",
    "         if os.path.exists(filename):\n",
    "              print('File already exists in not_deforestation, skipping...')\n",
    "              return\n",
    "\n",
    "    # exclude\n",
    "    elif label == 'e':\n",
    "          print('Excluded image, skipping...')\n",
    "          return\n",
    "\n",
    "    plt.imsave(filename, img)\n",
    "    print(f'Saved image to {filename}')"
   ]
  },
  {
   "cell_type": "code",
   "execution_count": null,
   "metadata": {},
   "outputs": [],
   "source": [
    "base_path = 'sentinel-data/fragments/'\n",
    "for photo in os.listdir(base_path):\n",
    "    photo_path = base_path + photo\n",
    "    img = mpimg.imread(photo_path)\n",
    "    plt.figure(figsize = (10,10))\n",
    "    plt.imshow(img)\n",
    "    plt.show()\n",
    "    clear_output(wait=True)\n",
    "    label = input()\n",
    "    if label == 's':\n",
    "        break\n",
    "    # save image to new folder\n",
    "    save_image(label, photo, img)\n",
    "    #os.remove(photo_path)"
   ]
  }
 ],
 "metadata": {
  "kernelspec": {
   "display_name": "Python 3",
   "language": "python",
   "name": "python3"
  },
  "language_info": {
   "codemirror_mode": {
    "name": "ipython",
    "version": 3
   },
   "file_extension": ".py",
   "mimetype": "text/x-python",
   "name": "python",
   "nbconvert_exporter": "python",
   "pygments_lexer": "ipython3",
   "version": "3.12.3"
  }
 },
 "nbformat": 4,
 "nbformat_minor": 2
}
